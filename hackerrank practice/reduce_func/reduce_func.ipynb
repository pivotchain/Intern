{
 "cells": [
  {
   "cell_type": "code",
   "execution_count": 20,
   "metadata": {},
   "outputs": [
    {
     "data": {
      "text/plain": [
       "'import fractions\\n#for i in range(int(input())):\\n    #N=int(input())\\n    #D=int(input())\\n    \\nf1=fractions.Fraction(2,5)\\nf2=fractions.Fraction(5,5)\\nf=fractions.Fraction(input())\\nprint(f)\\nprint(f1*f2)\\n'"
      ]
     },
     "execution_count": 20,
     "metadata": {},
     "output_type": "execute_result"
    }
   ],
   "source": [
    "\"\"\"import fractions\n",
    "#for i in range(int(input())):\n",
    "    #N=int(input())\n",
    "    #D=int(input())\n",
    "    \n",
    "f1=fractions.Fraction(2,5)\n",
    "f2=fractions.Fraction(5,5)\n",
    "f=fractions.Fraction(input())\n",
    "print(f)\n",
    "print(f1*f2)\n",
    "\"\"\""
   ]
  },
  {
   "cell_type": "code",
   "execution_count": 19,
   "metadata": {},
   "outputs": [
    {
     "name": "stdout",
     "output_type": "stream",
     "text": [
      "3\n",
      "1/2\n",
      "3/4\n",
      "10/6\n",
      "numerator:  5\n",
      "denominator: 8\n"
     ]
    }
   ],
   "source": [
    "import fractions# for working with fractions\n",
    "import operator #working with operators\n",
    "from functools import reduce \n",
    "import functools\n",
    "l=[]\n",
    "for i in range(int(input())): \n",
    "    f1=fractions.Fraction(input())#give input as fractions\n",
    "    l.append(f1)\n",
    "    t=reduce(operator.mul,l)#applying multiplication on list elemn\n",
    "        \n",
    "    \n",
    "print(\"numerator: \",t.numerator)\n",
    "print(\"denominator:\",t.denominator)"
   ]
  },
  {
   "cell_type": "code",
   "execution_count": null,
   "metadata": {},
   "outputs": [],
   "source": []
  },
  {
   "cell_type": "code",
   "execution_count": null,
   "metadata": {},
   "outputs": [],
   "source": []
  }
 ],
 "metadata": {
  "kernelspec": {
   "display_name": "Python 3",
   "language": "python",
   "name": "python3"
  },
  "language_info": {
   "codemirror_mode": {
    "name": "ipython",
    "version": 3
   },
   "file_extension": ".py",
   "mimetype": "text/x-python",
   "name": "python",
   "nbconvert_exporter": "python",
   "pygments_lexer": "ipython3",
   "version": "3.6.5"
  }
 },
 "nbformat": 4,
 "nbformat_minor": 2
}
