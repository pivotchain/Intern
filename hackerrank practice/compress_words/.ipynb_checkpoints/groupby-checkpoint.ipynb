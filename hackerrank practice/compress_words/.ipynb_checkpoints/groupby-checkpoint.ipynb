{
 "cells": [
  {
   "cell_type": "code",
   "execution_count": 27,
   "metadata": {},
   "outputs": [
    {
     "name": "stdout",
     "output_type": "stream",
     "text": [
      "121334\n",
      "(1, 1) (1, 2) (1, 1) (2, 3) (1, 4) "
     ]
    }
   ],
   "source": [
    "from itertools import groupby  #gives group of consecutive no or letter \n",
    "number=input()\n",
    "for i,j in groupby(number):\n",
    "    #print(i)\n",
    "    #print(j)\n",
    "    #print(len(list(j)))  #gives length of the repeated no.\n",
    "    count=(len(list(j))),int(i)\n",
    "    print(count,end=\" \")"
   ]
  },
  {
   "cell_type": "code",
   "execution_count": null,
   "metadata": {},
   "outputs": [],
   "source": []
  }
 ],
 "metadata": {
  "kernelspec": {
   "display_name": "Python 3",
   "language": "python",
   "name": "python3"
  },
  "language_info": {
   "codemirror_mode": {
    "name": "ipython",
    "version": 3
   },
   "file_extension": ".py",
   "mimetype": "text/x-python",
   "name": "python",
   "nbconvert_exporter": "python",
   "pygments_lexer": "ipython3",
   "version": "3.6.5"
  }
 },
 "nbformat": 4,
 "nbformat_minor": 2
}
