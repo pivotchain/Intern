{
 "cells": [
  {
   "cell_type": "code",
   "execution_count": 70,
   "metadata": {},
   "outputs": [
    {
     "name": "stdout",
     "output_type": "stream",
     "text": [
      "google\n",
      "g o e\n"
     ]
    }
   ],
   "source": [
    "from collections import Counter\n",
    "a=input()\n",
    "s=[i for i in a] # converted letters of word into list\n",
    "d=Counter(sorted(s)).most_common(3) # applied counter on sorted list and took 3 common letters\n",
    "print(*d[0][0],*d[1][0],*d[2][0])# gave tuple values of keys\n",
    "\n",
    "\n"
   ]
  },
  {
   "cell_type": "code",
   "execution_count": 72,
   "metadata": {},
   "outputs": [
    {
     "name": "stdout",
     "output_type": "stream",
     "text": [
      "google\n",
      "g 2\n",
      "o 2\n",
      "e 1\n"
     ]
    }
   ],
   "source": [
    "from collections import Counter\n",
    "a=input()\n",
    "s=[i for i in a] # converted letters of word into list\n",
    "d=Counter(sorted(s)).most_common(3) # applied counter on sorted list and took 3 common letters\n",
    "for i in d:\n",
    "    print(*i)"
   ]
  },
  {
   "cell_type": "code",
   "execution_count": 68,
   "metadata": {},
   "outputs": [],
   "source": [
    "x=(6,7)"
   ]
  },
  {
   "cell_type": "code",
   "execution_count": 69,
   "metadata": {},
   "outputs": [
    {
     "data": {
      "text/plain": [
       "6"
      ]
     },
     "execution_count": 69,
     "metadata": {},
     "output_type": "execute_result"
    }
   ],
   "source": [
    "x[0]"
   ]
  },
  {
   "cell_type": "code",
   "execution_count": null,
   "metadata": {},
   "outputs": [],
   "source": []
  }
 ],
 "metadata": {
  "kernelspec": {
   "display_name": "Python 3",
   "language": "python",
   "name": "python3"
  },
  "language_info": {
   "codemirror_mode": {
    "name": "ipython",
    "version": 3
   },
   "file_extension": ".py",
   "mimetype": "text/x-python",
   "name": "python",
   "nbconvert_exporter": "python",
   "pygments_lexer": "ipython3",
   "version": "3.6.5"
  }
 },
 "nbformat": 4,
 "nbformat_minor": 2
}
