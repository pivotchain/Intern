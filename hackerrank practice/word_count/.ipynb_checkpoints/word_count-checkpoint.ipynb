{
 "cells": [
  {
   "cell_type": "code",
   "execution_count": 21,
   "metadata": {},
   "outputs": [
    {
     "name": "stdout",
     "output_type": "stream",
     "text": [
      "4\n",
      "aish\n",
      "aish\n",
      "harry\n",
      "nikki\n",
      "3\n",
      "Counter({'aish': 2, 'harry': 1, 'nikki': 1})\n",
      "2 1 1\n"
     ]
    }
   ],
   "source": [
    "from collections import Counter    #Counter is a container that will hold the count of each of the elements present in the container\n",
    "words=[]      # to store words\n",
    "for i in range(int(input())):\n",
    "    word=input()\n",
    "    words.append(word)\n",
    "#print(words)\n",
    "d=Counter(words)\n",
    "print(len(d))\n",
    "print(d)       #prints dictionary values of elements and their counts\n",
    "d.values()     #gives the dictionary values\n",
    "print(*d.values())      # gives only the values"
   ]
  },
  {
   "cell_type": "code",
   "execution_count": null,
   "metadata": {},
   "outputs": [],
   "source": []
  },
  {
   "cell_type": "code",
   "execution_count": null,
   "metadata": {},
   "outputs": [],
   "source": []
  }
 ],
 "metadata": {
  "kernelspec": {
   "display_name": "Python 3",
   "language": "python",
   "name": "python3"
  },
  "language_info": {
   "codemirror_mode": {
    "name": "ipython",
    "version": 3
   },
   "file_extension": ".py",
   "mimetype": "text/x-python",
   "name": "python",
   "nbconvert_exporter": "python",
   "pygments_lexer": "ipython3",
   "version": "3.6.5"
  }
 },
 "nbformat": 4,
 "nbformat_minor": 2
}
