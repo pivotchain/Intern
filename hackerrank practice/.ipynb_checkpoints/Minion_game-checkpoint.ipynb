{
 "cells": [
  {
   "cell_type": "code",
   "execution_count": 60,
   "metadata": {},
   "outputs": [],
   "source": [
    "def minion(s):\n",
    "    v='AEIOU'\n",
    "    kevin=[]\n",
    "    stuart=[]\n",
    "    if s.isupper():\n",
    "        \n",
    "        itersubs = [s[i: j] for i in range(len(s)) \n",
    "              for j in range(i + 1, len(s) + 1)] \n",
    "        for k in itersubs:\n",
    "            if k[0] in v:\n",
    "                kevin.append(k)\n",
    "            else:\n",
    "                stuart.append(k)\n",
    "\n",
    "        kv=len(kevin)\n",
    "        st=len(stuart)\n",
    "        if kv>st:\n",
    "            print('Kevin',kv)\n",
    "        elif st>kv:\n",
    "            print('Stuart',st)\n",
    "        else:\n",
    "            print('Draw')\n",
    "    else:\n",
    "        print('please give capital string')\n",
    "    "
   ]
  },
  {
   "cell_type": "code",
   "execution_count": 61,
   "metadata": {},
   "outputs": [
    {
     "name": "stdout",
     "output_type": "stream",
     "text": [
      "Stuart 12\n"
     ]
    }
   ],
   "source": [
    "minion('BANANA')"
   ]
  },
  {
   "cell_type": "code",
   "execution_count": null,
   "metadata": {},
   "outputs": [],
   "source": []
  }
 ],
 "metadata": {
  "kernelspec": {
   "display_name": "Python 3",
   "language": "python",
   "name": "python3"
  },
  "language_info": {
   "codemirror_mode": {
    "name": "ipython",
    "version": 3
   },
   "file_extension": ".py",
   "mimetype": "text/x-python",
   "name": "python",
   "nbconvert_exporter": "python",
   "pygments_lexer": "ipython3",
   "version": "3.6.5"
  }
 },
 "nbformat": 4,
 "nbformat_minor": 2
}
