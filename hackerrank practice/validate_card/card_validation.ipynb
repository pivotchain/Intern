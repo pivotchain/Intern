{
 "cells": [
  {
   "cell_type": "code",
   "execution_count": 30,
   "metadata": {},
   "outputs": [
    {
     "name": "stdout",
     "output_type": "stream",
     "text": [
      "5432-7777-8905-1235\n",
      "no match\n"
     ]
    }
   ],
   "source": [
    "import re\n",
    "from itertools import groupby\n",
    "a=input()\n",
    "if re.match(r\"^[456](\\d{3})(-\\d{4})(-\\d{4})(-\\d{4})$\",a):\n",
    "    if max(len(list(j)) for i,j in groupby(a.replace(\"-\",\"\")))<4:\n",
    "        print('matched')\n",
    "    else:\n",
    "        print('no match')"
   ]
  },
  {
   "cell_type": "code",
   "execution_count": null,
   "metadata": {},
   "outputs": [],
   "source": []
  },
  {
   "cell_type": "code",
   "execution_count": 41,
   "metadata": {},
   "outputs": [
    {
     "name": "stdout",
     "output_type": "stream",
     "text": [
      "5656-7777-9087-1234\n",
      "5656777790871234\n",
      "7777\n"
     ]
    }
   ],
   "source": [
    "#for finding repeatative no in a group of input\n",
    "import re\n",
    "a=input()\n",
    "b=a.replace(\"-\",\"\")\n",
    "print(b)\n",
    "result=re.search(r'(\\d)\\1{3}',b)#for searching specific digits repeatation\n",
    "print(result.group())"
   ]
  },
  {
   "cell_type": "code",
   "execution_count": 44,
   "metadata": {},
   "outputs": [
    {
     "name": "stdout",
     "output_type": "stream",
     "text": [
      "5423-7777-9845-0876\n",
      "5423777798450876\n",
      "7777\n"
     ]
    }
   ],
   "source": [
    "#for finding repeatative no in a group of input\n",
    "import re\n",
    "a=input()\n",
    "b=a.replace(\"-\",\"\")\n",
    "print(b)\n",
    "result=re.search(r'(7)\\1{3}',b)#searching for a specific number's repeatation in input\n",
    "print(result.group())"
   ]
  },
  {
   "cell_type": "code",
   "execution_count": null,
   "metadata": {},
   "outputs": [],
   "source": []
  }
 ],
 "metadata": {
  "kernelspec": {
   "display_name": "Python 3",
   "language": "python",
   "name": "python3"
  },
  "language_info": {
   "codemirror_mode": {
    "name": "ipython",
    "version": 3
   },
   "file_extension": ".py",
   "mimetype": "text/x-python",
   "name": "python",
   "nbconvert_exporter": "python",
   "pygments_lexer": "ipython3",
   "version": "3.6.5"
  }
 },
 "nbformat": 4,
 "nbformat_minor": 2
}
