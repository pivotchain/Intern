{
 "cells": [
  {
   "cell_type": "code",
   "execution_count": 1,
   "metadata": {},
   "outputs": [
    {
     "name": "stdout",
     "output_type": "stream",
     "text": [
      "2\n",
      "Sun 10 May 2015 13:54:36 -0700\n",
      "Sun 10 May 2015 13:54:36 -0000\n",
      "25200.0\n",
      "Sat 02 May 2015 19:54:36 +0530\n",
      "Fri 01 May 2015 13:54:36 -0000\n",
      "88200.0\n"
     ]
    }
   ],
   "source": [
    "from datetime import datetime\n",
    "for test in range(int(input())):.\n",
    "    t1=input()\n",
    "    t2=input()\n",
    "    dt_obj1=datetime.strptime(t1,\"%a %d %b %Y %H:%M:%S %z\")#strptime means string parser, this will convert a string format to datetime\n",
    "    dt_obj2=datetime.strptime(t2,\"%a %d %b %Y %H:%M:%S %z\")\n",
    "    print(abs(dt_obj1-dt_obj2).total_seconds())#ABS function removes the minus sign (-) from a negative number, making it positive. 1\n",
    "    "
   ]
  },
  {
   "cell_type": "code",
   "execution_count": null,
   "metadata": {},
   "outputs": [],
   "source": []
  }
 ],
 "metadata": {
  "kernelspec": {
   "display_name": "Python 3",
   "language": "python",
   "name": "python3"
  },
  "language_info": {
   "codemirror_mode": {
    "name": "ipython",
    "version": 3
   },
   "file_extension": ".py",
   "mimetype": "text/x-python",
   "name": "python",
   "nbconvert_exporter": "python",
   "pygments_lexer": "ipython3",
   "version": "3.6.5"
  }
 },
 "nbformat": 4,
 "nbformat_minor": 2
}
