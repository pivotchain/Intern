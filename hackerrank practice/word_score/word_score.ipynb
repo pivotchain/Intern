{
 "cells": [
  {
   "cell_type": "code",
   "execution_count": 28,
   "metadata": {},
   "outputs": [
    {
     "name": "stdout",
     "output_type": "stream",
     "text": [
      "3\n",
      "aish hiee yy\n",
      "5\n"
     ]
    }
   ],
   "source": [
    "a=int(input())\n",
    "words=input(\"\")\n",
    "vowels='aeiouy'\n",
    "\n",
    "\n",
    "score=0\n",
    "for i in words.split():   \n",
    "    count=0\n",
    "    for j in i:\n",
    "        if j in vowels:\n",
    "            count+=1\n",
    "            #print(count)  \n",
    "    if count%2==0:\n",
    "        score+=2\n",
    "    else:\n",
    "        score+=1\n",
    "print(score)            \n",
    "    "
   ]
  },
  {
   "cell_type": "code",
   "execution_count": null,
   "metadata": {},
   "outputs": [],
   "source": []
  }
 ],
 "metadata": {
  "kernelspec": {
   "display_name": "Python 3",
   "language": "python",
   "name": "python3"
  },
  "language_info": {
   "codemirror_mode": {
    "name": "ipython",
    "version": 3
   },
   "file_extension": ".py",
   "mimetype": "text/x-python",
   "name": "python",
   "nbconvert_exporter": "python",
   "pygments_lexer": "ipython3",
   "version": "3.6.5"
  }
 },
 "nbformat": 4,
 "nbformat_minor": 2
}
