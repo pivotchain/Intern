{
 "cells": [
  {
   "cell_type": "code",
   "execution_count": 13,
   "metadata": {},
   "outputs": [
    {
     "name": "stdout",
     "output_type": "stream",
     "text": [
      "aistf-@grdrd98.com\n",
      "valid\n"
     ]
    }
   ],
   "source": [
    "import re\n",
    "a=input()\n",
    "if re.search('^[\\w-]+@[0-9a-zA-Z]+[.]+[a-zA-z]{3}$',a):\n",
    "    print('valid')\n",
    "else:\n",
    "    print('not valid')"
   ]
  },
  {
   "cell_type": "code",
   "execution_count": 1,
   "metadata": {},
   "outputs": [
    {
     "name": "stdout",
     "output_type": "stream",
     "text": [
      "3\n",
      "atrd897@---.coiu\n",
      "aish-@trdf786.com\n",
      "rdsfeas-@trd567df.tty\n",
      "['aish-@trdf786.com', 'rdsfeas-@trd567df.tty']\n"
     ]
    }
   ],
   "source": [
    "import re\n",
    "valid_emails=[]\n",
    "for i in range(int(input())):\n",
    "    email=input()\n",
    "    if re.search('^[\\w-]+@[0-9a-zA-Z]+[.]+[a-zA-z]{3}$',email):\n",
    "        valid_emails.append(email)\n",
    "    else:\n",
    "        pass\n",
    "        #print('enter valid email') \n",
    "        \n",
    "print(valid_emails)\n",
    "        "
   ]
  },
  {
   "cell_type": "code",
   "execution_count": null,
   "metadata": {},
   "outputs": [],
   "source": []
  }
 ],
 "metadata": {
  "kernelspec": {
   "display_name": "Python 3",
   "language": "python",
   "name": "python3"
  },
  "language_info": {
   "codemirror_mode": {
    "name": "ipython",
    "version": 3
   },
   "file_extension": ".py",
   "mimetype": "text/x-python",
   "name": "python",
   "nbconvert_exporter": "python",
   "pygments_lexer": "ipython3",
   "version": "3.6.5"
  }
 },
 "nbformat": 4,
 "nbformat_minor": 2
}
